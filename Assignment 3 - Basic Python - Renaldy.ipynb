{
  "nbformat": 4,
  "nbformat_minor": 0,
  "metadata": {
    "colab": {
      "name": "Assigment 3 &4.ipynb",
      "provenance": [],
      "collapsed_sections": [],
      "authorship_tag": "ABX9TyMCYQu+OeYiBiO+eXMCOrbQ",
      "include_colab_link": true
    },
    "kernelspec": {
      "name": "python3",
      "display_name": "Python 3"
    },
    "language_info": {
      "name": "python"
    }
  },
  "cells": [
    {
      "cell_type": "markdown",
      "metadata": {
        "id": "view-in-github",
        "colab_type": "text"
      },
      "source": [
        "<a href=\"https://colab.research.google.com/github/Logoterapis/Bootcamp/blob/main/Assignment%203%20-%20Basic%20Python%20-%20Renaldy.ipynb\" target=\"_parent\"><img src=\"https://colab.research.google.com/assets/colab-badge.svg\" alt=\"Open In Colab\"/></a>"
      ]
    },
    {
      "cell_type": "code",
      "execution_count": null,
      "metadata": {
        "id": "7IfOhrQB3jYl"
      },
      "outputs": [],
      "source": [
        "# Input Nama\n",
        "nama = input (\"masukan nama: \")\n",
        "\n",
        "# Perintah Print\n",
        "print(\"Hai\",nama,\"Selamat Datang\")\n"
      ]
    },
    {
      "cell_type": "code",
      "source": [
        "# Input Panjang Dan Lebar\n",
        "print(\"Mengisi panjang dan lebar dari suatu ruangan\")\n",
        "\n",
        "panjang = int(input(\"\\nMasukan Panjang: \"))\n",
        "lebar = int(input(\"Masukan Lebar: \"))\n",
        "\n",
        "# Rumus luas dan hektar\n",
        "luas = panjang*lebar\n",
        "hektar = luas/10000\n",
        "\n",
        "#Cetak dan luas\n",
        "print(\"\\nLuas dalam M \\t\\t:\",luas,\"Meter\")\n",
        "print(\"Luas dalam H\\t:\",hektar,\"Hektar\")"
      ],
      "metadata": {
        "id": "bYDDVLlD51lw"
      },
      "execution_count": null,
      "outputs": []
    },
    {
      "cell_type": "code",
      "source": [
        "# Jumlah jumlah dari n bilangan pertama\n",
        "\n",
        "# Masukan angka Positif\n",
        "nomer = int(input (\" Masukan nomer \")) \n",
        "if nomer < 0:\n",
        "  print(\"Masukan Angka Positif\")\n",
        "else:\n",
        "  sum = 0\n",
        "\n",
        "# Digunakan sampai angka 0\n",
        "while(nomer > 0):\n",
        "  sum += nomer\n",
        "  nomer -= 1\n",
        "  \n",
        "print(\"Jumlah nya Adalah\", sum)"
      ],
      "metadata": {
        "id": "95GmULKc_LHL"
      },
      "execution_count": null,
      "outputs": []
    },
    {
      "cell_type": "code",
      "source": [
        "print('Program menghitung\\n1. luas segitiga,\\n2. luas segitiga heron')\n",
        "# input rumus segitiga pilihan\n",
        "pilihan = int(input('Masukan pilihan: '))\n",
        " \n",
        "\n",
        "# rumus segitiga\n",
        "if pilihan == 1:\n",
        "    a = int(input('masukan alas segitiga: '))\n",
        "    t = int(input('masukan tinggi segitiga: '))\n",
        "   \n",
        "    L= (0.5*a*t)\n",
        "    print(L)\n",
        "\n",
        "# rumus segitiga heron \n",
        "elif pilihan == 2:\n",
        "    s1 = int(input('masukan panjang sisi pertama: '))\n",
        "    s2 = int(input('masukan lebar sisi kedua: '))\n",
        "    s3 = int(input('masukan tinggi sisi ketiga: '))\n",
        "    lh= (s1+s2+s3)/2\n",
        "    print( lh )\n",
        " \n",
        "\n",
        "#else\n",
        "else:\n",
        "    print('Pilihan tidak tersedia')"
      ],
      "metadata": {
        "id": "ScjTsDHevo4y"
      },
      "execution_count": null,
      "outputs": []
    },
    {
      "cell_type": "code",
      "source": [
        "Print = ('Penjelasan Skala Gempa')\n",
        "\n",
        "# Input Nilai\n",
        "nilai = float(input('Berapa Skala Gempa Yang Anda Rasakan? '))\n",
        "\n",
        "# Kategori Gempa\n",
        "if nilai >= 10.0:\n",
        "    Grade       ='Massivee'\n",
        "    Deskripsi   ='tidak pernah terecord '\n",
        "    Intensitas  ='tidak pernah tercatat'\n",
        "    \n",
        "elif nilai >= 8.99:\n",
        "    Grade       ='Great'\n",
        "    Deskripsi   ='Hebat Dapat menyebabkan kerusakan serius di area beberapa ratus mil.'\n",
        "    Intensitas  ='1 Gempa per 50 tahun sekali' \n",
        "\n",
        "elif nilai >= 7.99:\n",
        "    Grade       ='Great'\n",
        "    Deskripsi   ='Hebat Dapat menyebabkan kerusakan serius di area beberapa ratus mil.'\n",
        "    Intensitas  ='1 Gempa persetahun sekali' \n",
        "\n",
        "elif nilai >= 6.99 :\n",
        "    Grade       ='Major'\n",
        "    Deskripsi   ='Dapat menyebabkan kerusakan serius pada area yang lebih luas.'\n",
        "    Intensitas  ='10 Gempa persetahun sekali' \n",
        "elif nilai >= 5.99:\n",
        "    Grade       ='Strong'\n",
        "    Deskripsi   ='Kuat Dapat merusak di area hingga sekitar 160 kilometer (100 mil) di area berpenduduk.'\n",
        "    Intensitas  ='100 gempa sd 150 gempa persetahun sekali' \n",
        "elif nilai >= 4.99:\n",
        "    Grade       ='Moderate'\n",
        "    Deskripsi   ='Sedang Dapat menyebabkan kerusakan besar pada bangunan yang dibangun dengan buruk di wilayah kecil. Paling sedikit kerusakan ringan pada bangunan yang dirancang dengan baik.'\n",
        "    Intensitas  ='1000 gempa sd 1500 gempa persetahun sekali' \n",
        "elif nilai >= 3.99:\n",
        "    Grade       ='Light'\n",
        "    Deskripsi   ='Dirasakan oleh orang banyak tetapi tidak menimbulkan kerusakan. Benda-benda ringan yang digantung bergoyang dan jendela kaca bergetar..'\n",
        "    intensitas  ='10.000 gempa sd 15.000 gempa persetahun sekali'   \n",
        "elif nilai >= 2.99:\n",
        "    Grade       ='Minor'\n",
        "    Deskripsi   ='Dirasakan oleh orang banyak tetapi tidak menimbulkan kerusakan.. '   \n",
        "    Intensitas  ='Lebih dari 100.000 persetahun sekali'     \n",
        "elif nilai >= 1.99:\n",
        "    Grade       ='Minor'\n",
        "    Deskripsi   ='Dirasakan oleh orang banyak tetapi tidak menimbulkan kerusakan.. '  \n",
        "    Intensitas  ='Lebih dari 1.000.000 persetahun sekali'      \n",
        "else :\n",
        "    Grade       ='Micro'\n",
        "    Deskripsi   ='Tidak dirasakan atau dirasakan hanya oleh beberapa orang tetapi terekam oleh alat.'\n",
        "    Intensitas  ='jutaan persetahun sekali'  \n",
        "\n",
        "# Cetak    \n",
        "print('Grade : {}'.format(Grade))\n",
        "print('Deskripsi : {}'.format(Deskripsi))\n",
        "print('Intensitas : {}'.format(Intensitas))"
      ],
      "metadata": {
        "id": "kINfXLP57Dcn"
      },
      "execution_count": null,
      "outputs": []
    },
    {
      "cell_type": "code",
      "source": [
        "\n"
      ],
      "metadata": {
        "id": "8LtCLBgQvoVd"
      },
      "execution_count": null,
      "outputs": []
    },
    {
      "cell_type": "code",
      "source": [
        "import numpy as np\n",
        "import matplotlib.pyplot as plt\n",
        "\n",
        "# Input Data\n",
        "N = 100\n",
        "x = (0.58705,\t-0.1509,\t-0.2480,\t-0.3605,\t0.09375,\t-0.2584,\t-0.1712,\t-0.4358,\t-0.1777,\t0.63140,\t-0.7512,\t0.07738,\t-0.3531,\t0.17786,\t-0.1076,\t0.48661,\t0.21430,\t-0.4601,\t-0.8514,\t-0.0486,\t0.28875,\t0.89277,\t0.37858,\t0.27916,\t0.44374,\t0.47639,\t-0.7100,\t0.39965,\t-0.0827,\t0.27483,\t-0.7088,\t0.21256,\t-0.5876,\t0.08218,\t0.24345,\t-0.2254,\t0.11982,\t-0.1375,\t-0.6468,\t0.17907,\t-0.0041,\t0.48763,\t-0.1724,\t0.61594,\t-0.5064,\t0.23566,\t-0.0719,\t-0.6105,\t0.11442,\t-0.0318,\t-0.0463,\t-0.1315,\t-0.1354,\t0.21295,\t-0.2552,\t0.20557,\t-0.4341,\t0.10297,\t0.19430,\t0.01233,\t-0.5404,\t0.02923,\t0.91750,\t-0.3738,\t-0.8270,\t-0.2943,\t-0.1015,\t0.09209,\t-0.0824,\t-0.6439,\t-0.0714,\t-0.4345,\t0.36668,\t0.02261,\t-0.4015,\t-0.1578,\t-0.0078,\t-0.2863,\t0.20372,\t-0.1626,\t-0.0500,\t0.85705,\t0.20211,\t0.22263,\t0.00368,\t0.71760,\t0.14863,\t-0.0347,\t0.11045,\t-0.2744,\t-0.1521,\t-0.0123,\t0.21052,\t-0.1762,\t0.44270,\t0.57697,\t0.54242,\t-0.0282,\t-0.5208,\t-0.6399,\n",
        ")\n",
        "y = (5.79555,\t3.53372,\t3.22805,\t2.87947,\t4.40297,\t3.22351,\t3.33413,\t2.64581,\t3.17808,\t5.89149,\t1.63182,\t4.16202,\t3.04898,\t4.47832,\t3.40340,\t5.45144,\t4.74118,\t2.58099,\t1.51027,\t3.97839,\t4.86927,\t6.54291,\t5.22406,\t4.69183,\t5.40699,\t5.40892,\t1.93511,\t5.31830,\t3.70831,\t4.70114,\t1.78144,\t4.64785,\t2.36904,\t4.33018,\t4.58120,\t3.33604,\t4.23821,\t3.45348,\t2.00809,\t4.54150,\t4.10607,\t5.40747,\t3.48155,\t5.70840,\t2.39071,\t4.82726,\t3.74389,\t2.17770,\t4.27602,\t3.88965,\t3.88686,\t3.67183,\t3.49113,\t4.67873,\t3.12481,\t4.68855,\t2.74055,\t4.21552,\t4.53160,\t4.10830,\t2.42548,\t3.98392,\t6.98564,\t2.71958,\t1.53684,\t3.05788,\t3.62269,\t4.13679,\t3.89883,\t2.20617,\t3.89586,\t2.65406,\t5.00060,\t3.91445,\t2.92545,\t3.53233,\t4.08026,\t3.26051,\t4.75618,\t3.53234,\t3.83999,\t6.43863,\t4.60285,\t4.57233,\t4.02064,\t6.28391,\t4.45149,\t4.00773,\t4.32023,\t3.20861,\t3.58077,\t4.01570,\t4.57241,\t3.46470,\t5.28338,\t5.62490,\t5.50030,\t3.96986,\t2.46482,\t2.24709,\n",
        ")\n",
        "colors = ('blue')\n",
        "area = np.pi*10\n",
        "\n",
        "# Plot\n",
        "plt.scatter(x, y,)\n",
        "plt.xlabel('x')\n",
        "plt.ylabel('y')\n",
        "plt.show()\n"
      ],
      "metadata": {
        "colab": {
          "base_uri": "https://localhost:8080/",
          "height": 279
        },
        "id": "QZOvZkPy8nxo",
        "outputId": "4967a23a-9bee-49fd-8753-745075bce21d"
      },
      "execution_count": 10,
      "outputs": [
        {
          "output_type": "display_data",
          "data": {
            "text/plain": [
              "<Figure size 432x288 with 1 Axes>"
            ],
            "image/png": "[encoded data removed]"
          },
          "metadata": {
            "needs_background": "light"
          }
        }
      ]
    }
  ]
}